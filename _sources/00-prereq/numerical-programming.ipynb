{
 "cells": [
  {
   "cell_type": "markdown",
   "metadata": {},
   "source": [
    "## Numerical programming with `numpy`\n",
    "\n",
    "In python we can use the `numpy` package to perform basic matrix operations. The `numpy` package is a fundamental package for scientific computing with Python. It contains among other things:\n",
    "\n",
    "- a powerful N-dimensional array object\n",
    "- sophisticated (broadcasting) functions\n",
    "- a collection of routines for linear algebra, Fourier transform, and random number generation\n",
    "- a collection of routines for numerical integration and optimization\n",
    "- key tools for working with numerical data in Python\n",
    "- support for large, multi-dimensional arrays and matrices\n",
    "\n",
    "### Creating matrices/arrays\n",
    "\n",
    "Create a matrix using `list`"
   ]
  },
  {
   "cell_type": "code",
   "execution_count": null,
   "metadata": {
    "tags": [
     "hide-output"
    ]
   },
   "outputs": [],
   "source": [
    "# create matrices\n",
    "x = [[1, 2, 3], [4, 5, 6]]\n",
    "print(x)"
   ]
  },
  {
   "cell_type": "markdown",
   "metadata": {},
   "source": [
    "Create an array using `numpy.array`"
   ]
  },
  {
   "cell_type": "code",
   "execution_count": null,
   "metadata": {
    "tags": [
     "hide-output"
    ]
   },
   "outputs": [],
   "source": [
    "import numpy as np\n",
    "\n",
    "# create an 1D array\n",
    "x = np.array([1, 2, 3, 4, 5])\n",
    "print(x)"
   ]
  },
  {
   "cell_type": "markdown",
   "metadata": {},
   "source": [
    "The `shape` attribute of an array object returns a tuple consisting of array dimensions. For a matrix with `n` rows and `m` columns, shape will be `(n,m)`. The length of the shape tuple is therefore the number of axes, `ndim`."
   ]
  },
  {
   "cell_type": "code",
   "execution_count": null,
   "metadata": {
    "tags": [
     "hide-output"
    ]
   },
   "outputs": [],
   "source": [
    "print(x.shape)"
   ]
  },
  {
   "cell_type": "markdown",
   "metadata": {},
   "source": [
    "`np.arange()` is used to create a sequence of numbers. It is similar to the built-in `range()` function, but returns an `ndarray` instead of a list. The arguments are `(start, stop, step)`, which the same as for `range()`, but it also accepts float arguments. The arguments are . If `step` is not given, it defaults to 1. If `start` is not given, it defaults to 0. If `stop` is not given, it defaults to `start` and `start` is set to 0. Note the `np.arange()` excludes right end of range specification."
   ]
  },
  {
   "cell_type": "code",
   "execution_count": null,
   "metadata": {
    "tags": [
     "hide-output"
    ]
   },
   "outputs": [],
   "source": [
    "x = np.arange(1, 11)\n",
    "print(x)"
   ]
  },
  {
   "cell_type": "code",
   "execution_count": null,
   "metadata": {
    "tags": [
     "hide-output"
    ]
   },
   "outputs": [],
   "source": [
    "# note: np.arange actually can result in unexpected results; check np.arange(0.2, 0.6, 0.4) vs np.arange(0.2, 1.6, 1.4)\n",
    "print(np.arange(0.2, 0.6, 0.4))\n",
    "print(np.arange(0.2, 1.6, 1.4))"
   ]
  },
  {
   "cell_type": "markdown",
   "metadata": {},
   "source": [
    "The `reshape()` method can be used to reshape an array."
   ]
  },
  {
   "cell_type": "code",
   "execution_count": null,
   "metadata": {
    "tags": [
     "hide-output"
    ]
   },
   "outputs": [],
   "source": [
    "x = np.array([1, 2, 3, 4, 5, 6])\n",
    "print(x)\n",
    "\n",
    "x = np.reshape(x, (2, 3))\n",
    "print(x)"
   ]
  },
  {
   "cell_type": "markdown",
   "metadata": {},
   "source": [
    "Try to run the following cell multiple times, can you get the same output every time?"
   ]
  },
  {
   "cell_type": "code",
   "execution_count": null,
   "metadata": {
    "tags": [
     "hide-output"
    ]
   },
   "outputs": [],
   "source": [
    "# generate random numbers/array/matrices\n",
    "\n",
    "mu, sigma = 0, 1\n",
    "a = np.random.randint(0, 10, 5)\n",
    "b = np.random.random((2, 3))\n",
    "\n",
    "print(a)\n",
    "print(b)\n",
    "\n",
    "x = np.random.normal(mu, sigma, 5)\n",
    "y = x + np.random.normal(20, 0.1, 5)\n",
    "\n",
    "print(x)\n",
    "print(y)"
   ]
  },
  {
   "cell_type": "markdown",
   "metadata": {},
   "source": [
    "Run the following cell multiple times, can you get the same output every time?"
   ]
  },
  {
   "cell_type": "code",
   "execution_count": null,
   "metadata": {
    "tags": [
     "hide-output"
    ]
   },
   "outputs": [],
   "source": [
    "np.random.seed(123)\n",
    "\n",
    "print(np.random.normal(mu, sigma, 5))"
   ]
  },
  {
   "cell_type": "markdown",
   "metadata": {},
   "source": [
    "### Basic matrix operations\n",
    "\n",
    "- Transpose\n",
    "\n",
    "The `T` attribute or `transpose()` method can be used to transpose an array."
   ]
  },
  {
   "cell_type": "code",
   "execution_count": null,
   "metadata": {
    "tags": [
     "hide-output"
    ]
   },
   "outputs": [],
   "source": [
    "a = np.array([[1, 2], [3, 4]])\n",
    "\n",
    "print(a)\n",
    "\n",
    "print(a.T)\n",
    "\n",
    "print(a.transpose())"
   ]
  },
  {
   "cell_type": "markdown",
   "metadata": {},
   "source": [
    "- Add a scalar to an array, or multiply an array by a scalar."
   ]
  },
  {
   "cell_type": "code",
   "execution_count": null,
   "metadata": {
    "tags": [
     "hide-output"
    ]
   },
   "outputs": [],
   "source": [
    "print(a + 1)\n",
    "print(a - 1)\n",
    "print(a * 2)\n",
    "print(a / 2)"
   ]
  },
  {
   "cell_type": "markdown",
   "metadata": {},
   "source": [
    "- Add or multiply two arrays of the same size element-wise."
   ]
  },
  {
   "cell_type": "code",
   "execution_count": null,
   "metadata": {
    "tags": [
     "hide-output"
    ]
   },
   "outputs": [],
   "source": [
    "b = np.array([[5, 6], [7, 8]])\n",
    "\n",
    "print(a + b)\n",
    "\n",
    "print(a * b)\n",
    "\n",
    "print(np.multiply(a, b))"
   ]
  },
  {
   "cell_type": "markdown",
   "metadata": {},
   "source": [
    "- Matrix multiplication."
   ]
  },
  {
   "cell_type": "code",
   "execution_count": null,
   "metadata": {
    "tags": [
     "hide-output"
    ]
   },
   "outputs": [],
   "source": [
    "# product of two matrices\n",
    "c = np.array([[1, 2, 3], [4, 5, 6]])\n",
    "\n",
    "print(np.dot(a, c))"
   ]
  },
  {
   "cell_type": "code",
   "execution_count": null,
   "metadata": {
    "tags": [
     "hide-output"
    ]
   },
   "outputs": [],
   "source": [
    "#  product of matrix and vector\n",
    "d = np.array([1, 2])\n",
    "\n",
    "print(np.dot(a, d))"
   ]
  },
  {
   "cell_type": "markdown",
   "metadata": {},
   "source": [
    "### Statistics with NumPy"
   ]
  },
  {
   "cell_type": "code",
   "execution_count": null,
   "metadata": {
    "tags": [
     "hide-output"
    ]
   },
   "outputs": [],
   "source": [
    "x = np.array([1, 2, 3, 4, 5, 6])\n",
    "\n",
    "print(np.sqrt(x))\n",
    "\n",
    "print(x**2)\n",
    "\n",
    "print(np.square(x))"
   ]
  },
  {
   "cell_type": "code",
   "execution_count": null,
   "metadata": {
    "tags": [
     "hide-output"
    ]
   },
   "outputs": [],
   "source": [
    "x = np.random.randint(0, 10, 5)\n",
    "\n",
    "print(\"The mean value of the array x is: \", np.mean(x))\n",
    "print(\"The median value of the array x is: \", np.median(x))\n",
    "print(\"The standard deviation of the array x is: \", np.std(x))\n",
    "print(\"The variance of the array x is: \", np.var(x))\n",
    "print(\"The max value of the array x is: \", np.min(x))\n",
    "print(\"The min value of the array x is: \", np.max(x))"
   ]
  },
  {
   "cell_type": "markdown",
   "metadata": {},
   "source": [
    "### Indexing in `NumPy`"
   ]
  },
  {
   "cell_type": "code",
   "execution_count": null,
   "metadata": {
    "tags": [
     "hide-output"
    ]
   },
   "outputs": [],
   "source": [
    "A = np.arange(1, 17, 1).reshape(4, 4).transpose()\n",
    "print(A)"
   ]
  },
  {
   "cell_type": "markdown",
   "metadata": {},
   "source": [
    "Get an element from a matrix, for example, get the forth element in the third row (index starts from 0). "
   ]
  },
  {
   "cell_type": "code",
   "execution_count": null,
   "metadata": {
    "tags": [
     "hide-output"
    ]
   },
   "outputs": [],
   "source": [
    "print(A[2, 3])"
   ]
  },
  {
   "cell_type": "code",
   "execution_count": null,
   "metadata": {
    "tags": [
     "hide-output"
    ]
   },
   "outputs": [],
   "source": [
    "# to select a submatrix, need the non-singleton dimension of your indexing array to be aligned with the axis you're indexing into,\n",
    "# e.g. for an n x m 2D subarray: A[n by 1 array,1 by m array]\n",
    "A[[[0], [2]], [1, 3]]"
   ]
  },
  {
   "cell_type": "markdown",
   "metadata": {},
   "source": [
    "Using the `:` operator can get a row or a column."
   ]
  },
  {
   "cell_type": "code",
   "execution_count": null,
   "metadata": {
    "tags": [
     "hide-output"
    ]
   },
   "outputs": [],
   "source": [
    "# the last two examples include either no index for the columns or no index for the rows. These indicate that Python should include all columns or all rows, respectively\n",
    "A[0, :]"
   ]
  },
  {
   "cell_type": "markdown",
   "metadata": {},
   "source": [
    "The default indexing is row-wise, and therefore the `:` for column can be omitted. "
   ]
  },
  {
   "cell_type": "code",
   "execution_count": null,
   "metadata": {
    "tags": [
     "hide-output"
    ]
   },
   "outputs": [],
   "source": [
    "A[0]"
   ]
  },
  {
   "cell_type": "markdown",
   "metadata": {},
   "source": [
    "Using `start:stop;step_size` to get a submatrix. \n",
    "- `start` and `stop` are the indices of the first and last elements of the submatrix, and `step_size` is the step size. \n",
    "- `start` and `stop` can be negative, which means the indices are counted from the right. \n",
    "- `step_size` can be negative, which means the submatrix is reversed. \n",
    "- `start` and `stop` can be omitted, which means the submatrix starts from the first element or ends at the last element. \n",
    "- `step_size` can be omitted, which means the step size is 1."
   ]
  },
  {
   "cell_type": "code",
   "execution_count": null,
   "metadata": {
    "tags": [
     "hide-output"
    ]
   },
   "outputs": [],
   "source": [
    "# this is another way to do that\n",
    "A[0:3:2, 1:4:2]"
   ]
  },
  {
   "cell_type": "code",
   "execution_count": null,
   "metadata": {
    "tags": [
     "hide-output"
    ]
   },
   "outputs": [],
   "source": [
    "# select all columns in those two rows\n",
    "A[0:3:2, :]"
   ]
  },
  {
   "cell_type": "code",
   "execution_count": null,
   "metadata": {
    "tags": [
     "hide-output"
    ]
   },
   "outputs": [],
   "source": [
    "# select all row in those two columns\n",
    "A[:, 1:4:2]"
   ]
  },
  {
   "cell_type": "code",
   "execution_count": null,
   "metadata": {
    "tags": [
     "hide-output"
    ]
   },
   "outputs": [],
   "source": [
    "# '-' sign has a different meaning and good usage in Python. This means index from the end, -1 means the last element\n",
    "A[-1, -1]"
   ]
  },
  {
   "cell_type": "markdown",
   "metadata": {},
   "source": [
    "Boolean indexing"
   ]
  },
  {
   "cell_type": "code",
   "execution_count": null,
   "metadata": {
    "tags": [
     "hide-output"
    ]
   },
   "outputs": [],
   "source": [
    "# there are other ways to let Python keep all rows except certain index. For example, we could also use boolean.\n",
    "ind = np.ones((4,), bool)\n",
    "ind[[0, 2]] = False\n",
    "print(ind)"
   ]
  },
  {
   "cell_type": "code",
   "execution_count": null,
   "metadata": {
    "tags": [
     "hide-output"
    ]
   },
   "outputs": [],
   "source": [
    "print(A[ind, :])\n",
    "\n",
    "print(A[ind])"
   ]
  },
  {
   "cell_type": "markdown",
   "metadata": {},
   "source": [
    "### Exercises"
   ]
  },
  {
   "cell_type": "markdown",
   "metadata": {},
   "source": [
    "<!-- ## Basic probability and statistics \n",
    "\n",
    "### Probability\n",
    "\n",
    "- Marginal probability\n",
    "- Conditional probability\n",
    "- Joint probability\n",
    "-->\n"
   ]
  }
 ],
 "metadata": {
  "celltoolbar": "Tags",
  "kernelspec": {
   "display_name": "Python 3 (ipykernel)",
   "language": "python",
   "name": "python3"
  },
  "language_info": {
   "codemirror_mode": {
    "name": "ipython",
    "version": 3
   },
   "file_extension": ".py",
   "mimetype": "text/x-python",
   "name": "python",
   "nbconvert_exporter": "python",
   "pygments_lexer": "ipython3",
   "version": "3.9.5"
  },
  "vscode": {
   "interpreter": {
    "hash": "61d0af6763ae06df221fc58897e579938d7500abd470a84b96ae11968912754a"
   }
  }
 },
 "nbformat": 4,
 "nbformat_minor": 2
}
